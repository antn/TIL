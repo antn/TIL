{
 "cells": [
  {
   "cell_type": "code",
   "execution_count": 10,
   "metadata": {
    "collapsed": true
   },
   "outputs": [],
   "source": [
    "import tensorflow as tf"
   ]
  },
  {
   "cell_type": "code",
   "execution_count": 11,
   "metadata": {
    "collapsed": true
   },
   "outputs": [],
   "source": [
    "# data set\n",
    "x_data = [1., 2., 3., 4.]\n",
    "y_data = [1., 3., 5., 7.]"
   ]
  },
  {
   "cell_type": "code",
   "execution_count": 12,
   "metadata": {
    "collapsed": true
   },
   "outputs": [],
   "source": [
    "# try to find values for w and b that compute y_data = W * x_data + b\n",
    "# range is -100 ~ 100\n",
    "W = tf.Variable(tf.random_uniform([1], -10000., 10000.))\n",
    "\n",
    "X = tf.placeholder(tf.float32)\n",
    "Y = tf.placeholder(tf.float32)"
   ]
  },
  {
   "cell_type": "code",
   "execution_count": 13,
   "metadata": {
    "collapsed": true
   },
   "outputs": [],
   "source": [
    "# Simplified hypothesis\n",
    "hypothesis = W * X"
   ]
  },
  {
   "cell_type": "code",
   "execution_count": 14,
   "metadata": {
    "collapsed": false
   },
   "outputs": [],
   "source": [
    "# Simplified cost function based on simplified hypothesis\n",
    "cost = tf.reduce_mean(tf.square(hypothesis - Y))"
   ]
  },
  {
   "cell_type": "code",
   "execution_count": 15,
   "metadata": {
    "collapsed": true
   },
   "outputs": [],
   "source": [
    "# minimize\n",
    "descent = W - tf.mul(0.1, tf.reduce_mean(tf.mul((tf.mul(W, X) - Y), X), ))\n",
    "update = W.assign(descent)"
   ]
  },
  {
   "cell_type": "code",
   "execution_count": 16,
   "metadata": {
    "collapsed": true
   },
   "outputs": [],
   "source": [
    "# before starting, initialize the variable\n",
    "init = tf.initialize_all_variables()"
   ]
  },
  {
   "cell_type": "code",
   "execution_count": 17,
   "metadata": {
    "collapsed": true
   },
   "outputs": [],
   "source": [
    "# launch\n",
    "sess = tf.Session()\n",
    "sess.run(init)"
   ]
  },
  {
   "cell_type": "code",
   "execution_count": 18,
   "metadata": {
    "collapsed": false
   },
   "outputs": [
    {
     "name": "stdout",
     "output_type": "stream",
     "text": [
      "0 1.59861e+07 [ 1461.62353516]\n",
      "1 999129.0 [ 366.65588379]\n",
      "2 62445.7 [ 92.91397095]\n",
      "3 3903.01 [ 24.47849274]\n",
      "4 244.095 [ 7.36962318]\n",
      "5 15.4122 [ 3.0924058]\n",
      "6 1.11951 [ 2.02310133]\n",
      "7 0.226219 [ 1.75577533]\n",
      "8 0.170389 [ 1.68894386]\n",
      "9 0.166899 [ 1.67223597]\n",
      "10 0.166681 [ 1.66805899]\n",
      "11 0.166668 [ 1.66701472]\n",
      "12 0.166667 [ 1.66675365]\n",
      "13 0.166667 [ 1.66668844]\n",
      "14 0.166667 [ 1.66667211]\n",
      "15 0.166667 [ 1.66666806]\n",
      "16 0.166667 [ 1.66666698]\n",
      "17 0.166667 [ 1.66666675]\n",
      "18 0.166667 [ 1.66666675]\n",
      "19 0.166667 [ 1.66666675]\n",
      "[ 8.33333397]\n",
      "[ 4.16666698]\n"
     ]
    }
   ],
   "source": [
    "# fit the line\n",
    "for step in xrange(20):\n",
    "    sess.run(update, feed_dict={X: x_data, Y: y_data})\n",
    "    print step, sess.run(cost, feed_dict={X: x_data, Y: y_data}), sess.run(W)\n",
    "    \n",
    "print sess.run(hypothesis, feed_dict={X: 5})\n",
    "print sess.run(hypothesis, feed_dict={X: 2.5})"
   ]
  }
 ],
 "metadata": {
  "kernelspec": {
   "display_name": "Python 2",
   "language": "python",
   "name": "python2"
  },
  "language_info": {
   "codemirror_mode": {
    "name": "ipython",
    "version": 2
   },
   "file_extension": ".py",
   "mimetype": "text/x-python",
   "name": "python",
   "nbconvert_exporter": "python",
   "pygments_lexer": "ipython2",
   "version": "2.7.12"
  }
 },
 "nbformat": 4,
 "nbformat_minor": 1
}
